{
  "nbformat": 4,
  "nbformat_minor": 0,
  "metadata": {
    "colab": {
      "name": "XLNet_tutorial",
      "provenance": [],
      "include_colab_link": true
    },
    "kernelspec": {
      "name": "python3",
      "display_name": "Python 3"
    },
    "widgets": {
      "application/vnd.jupyter.widget-state+json": {
        "5c2190805ea14ef19c57433c953a53ed": {
          "model_module": "@jupyter-widgets/controls",
          "model_name": "HBoxModel",
          "state": {
            "_view_name": "HBoxView",
            "_dom_classes": [],
            "_model_name": "HBoxModel",
            "_view_module": "@jupyter-widgets/controls",
            "_model_module_version": "1.5.0",
            "_view_count": null,
            "_view_module_version": "1.5.0",
            "box_style": "",
            "layout": "IPY_MODEL_c82960efd5454cd0b72157a6b102915e",
            "_model_module": "@jupyter-widgets/controls",
            "children": [
              "IPY_MODEL_5b8192b3ea72443e96848b808738b996",
              "IPY_MODEL_a6c3d96f4794415e9eac07c5189a362a"
            ]
          }
        },
        "c82960efd5454cd0b72157a6b102915e": {
          "model_module": "@jupyter-widgets/base",
          "model_name": "LayoutModel",
          "state": {
            "_view_name": "LayoutView",
            "grid_template_rows": null,
            "right": null,
            "justify_content": null,
            "_view_module": "@jupyter-widgets/base",
            "overflow": null,
            "_model_module_version": "1.2.0",
            "_view_count": null,
            "flex_flow": null,
            "width": null,
            "min_width": null,
            "border": null,
            "align_items": null,
            "bottom": null,
            "_model_module": "@jupyter-widgets/base",
            "top": null,
            "grid_column": null,
            "overflow_y": null,
            "overflow_x": null,
            "grid_auto_flow": null,
            "grid_area": null,
            "grid_template_columns": null,
            "flex": null,
            "_model_name": "LayoutModel",
            "justify_items": null,
            "grid_row": null,
            "max_height": null,
            "align_content": null,
            "visibility": null,
            "align_self": null,
            "height": null,
            "min_height": null,
            "padding": null,
            "grid_auto_rows": null,
            "grid_gap": null,
            "max_width": null,
            "order": null,
            "_view_module_version": "1.2.0",
            "grid_template_areas": null,
            "object_position": null,
            "object_fit": null,
            "grid_auto_columns": null,
            "margin": null,
            "display": null,
            "left": null
          }
        },
        "5b8192b3ea72443e96848b808738b996": {
          "model_module": "@jupyter-widgets/controls",
          "model_name": "FloatProgressModel",
          "state": {
            "_view_name": "ProgressView",
            "style": "IPY_MODEL_363d866cb3b64b089a056f98481813d1",
            "_dom_classes": [],
            "description": "Downloading: 100%",
            "_model_name": "FloatProgressModel",
            "bar_style": "success",
            "max": 798011,
            "_view_module": "@jupyter-widgets/controls",
            "_model_module_version": "1.5.0",
            "value": 798011,
            "_view_count": null,
            "_view_module_version": "1.5.0",
            "orientation": "horizontal",
            "min": 0,
            "description_tooltip": null,
            "_model_module": "@jupyter-widgets/controls",
            "layout": "IPY_MODEL_a5e3444eff7940a98727b78a68a6d368"
          }
        },
        "a6c3d96f4794415e9eac07c5189a362a": {
          "model_module": "@jupyter-widgets/controls",
          "model_name": "HTMLModel",
          "state": {
            "_view_name": "HTMLView",
            "style": "IPY_MODEL_19bc2aa1253a4cc7a5ee4abcd286a336",
            "_dom_classes": [],
            "description": "",
            "_model_name": "HTMLModel",
            "placeholder": "​",
            "_view_module": "@jupyter-widgets/controls",
            "_model_module_version": "1.5.0",
            "value": " 798k/798k [00:26&lt;00:00, 29.9kB/s]",
            "_view_count": null,
            "_view_module_version": "1.5.0",
            "description_tooltip": null,
            "_model_module": "@jupyter-widgets/controls",
            "layout": "IPY_MODEL_0b6f48852fb04ca0b8b4d5964331ac09"
          }
        },
        "363d866cb3b64b089a056f98481813d1": {
          "model_module": "@jupyter-widgets/controls",
          "model_name": "ProgressStyleModel",
          "state": {
            "_view_name": "StyleView",
            "_model_name": "ProgressStyleModel",
            "description_width": "initial",
            "_view_module": "@jupyter-widgets/base",
            "_model_module_version": "1.5.0",
            "_view_count": null,
            "_view_module_version": "1.2.0",
            "bar_color": null,
            "_model_module": "@jupyter-widgets/controls"
          }
        },
        "a5e3444eff7940a98727b78a68a6d368": {
          "model_module": "@jupyter-widgets/base",
          "model_name": "LayoutModel",
          "state": {
            "_view_name": "LayoutView",
            "grid_template_rows": null,
            "right": null,
            "justify_content": null,
            "_view_module": "@jupyter-widgets/base",
            "overflow": null,
            "_model_module_version": "1.2.0",
            "_view_count": null,
            "flex_flow": null,
            "width": null,
            "min_width": null,
            "border": null,
            "align_items": null,
            "bottom": null,
            "_model_module": "@jupyter-widgets/base",
            "top": null,
            "grid_column": null,
            "overflow_y": null,
            "overflow_x": null,
            "grid_auto_flow": null,
            "grid_area": null,
            "grid_template_columns": null,
            "flex": null,
            "_model_name": "LayoutModel",
            "justify_items": null,
            "grid_row": null,
            "max_height": null,
            "align_content": null,
            "visibility": null,
            "align_self": null,
            "height": null,
            "min_height": null,
            "padding": null,
            "grid_auto_rows": null,
            "grid_gap": null,
            "max_width": null,
            "order": null,
            "_view_module_version": "1.2.0",
            "grid_template_areas": null,
            "object_position": null,
            "object_fit": null,
            "grid_auto_columns": null,
            "margin": null,
            "display": null,
            "left": null
          }
        },
        "19bc2aa1253a4cc7a5ee4abcd286a336": {
          "model_module": "@jupyter-widgets/controls",
          "model_name": "DescriptionStyleModel",
          "state": {
            "_view_name": "StyleView",
            "_model_name": "DescriptionStyleModel",
            "description_width": "",
            "_view_module": "@jupyter-widgets/base",
            "_model_module_version": "1.5.0",
            "_view_count": null,
            "_view_module_version": "1.2.0",
            "_model_module": "@jupyter-widgets/controls"
          }
        },
        "0b6f48852fb04ca0b8b4d5964331ac09": {
          "model_module": "@jupyter-widgets/base",
          "model_name": "LayoutModel",
          "state": {
            "_view_name": "LayoutView",
            "grid_template_rows": null,
            "right": null,
            "justify_content": null,
            "_view_module": "@jupyter-widgets/base",
            "overflow": null,
            "_model_module_version": "1.2.0",
            "_view_count": null,
            "flex_flow": null,
            "width": null,
            "min_width": null,
            "border": null,
            "align_items": null,
            "bottom": null,
            "_model_module": "@jupyter-widgets/base",
            "top": null,
            "grid_column": null,
            "overflow_y": null,
            "overflow_x": null,
            "grid_auto_flow": null,
            "grid_area": null,
            "grid_template_columns": null,
            "flex": null,
            "_model_name": "LayoutModel",
            "justify_items": null,
            "grid_row": null,
            "max_height": null,
            "align_content": null,
            "visibility": null,
            "align_self": null,
            "height": null,
            "min_height": null,
            "padding": null,
            "grid_auto_rows": null,
            "grid_gap": null,
            "max_width": null,
            "order": null,
            "_view_module_version": "1.2.0",
            "grid_template_areas": null,
            "object_position": null,
            "object_fit": null,
            "grid_auto_columns": null,
            "margin": null,
            "display": null,
            "left": null
          }
        },
        "201103a21d6943baac071b7c63f55d4f": {
          "model_module": "@jupyter-widgets/controls",
          "model_name": "HBoxModel",
          "state": {
            "_view_name": "HBoxView",
            "_dom_classes": [],
            "_model_name": "HBoxModel",
            "_view_module": "@jupyter-widgets/controls",
            "_model_module_version": "1.5.0",
            "_view_count": null,
            "_view_module_version": "1.5.0",
            "box_style": "",
            "layout": "IPY_MODEL_6482584713514992ae2d9bcdf11d18d2",
            "_model_module": "@jupyter-widgets/controls",
            "children": [
              "IPY_MODEL_8b76a59901204e73bc1b18565fa256bb",
              "IPY_MODEL_8590dd30a0d14e27ad3a856d64aaba20"
            ]
          }
        },
        "6482584713514992ae2d9bcdf11d18d2": {
          "model_module": "@jupyter-widgets/base",
          "model_name": "LayoutModel",
          "state": {
            "_view_name": "LayoutView",
            "grid_template_rows": null,
            "right": null,
            "justify_content": null,
            "_view_module": "@jupyter-widgets/base",
            "overflow": null,
            "_model_module_version": "1.2.0",
            "_view_count": null,
            "flex_flow": null,
            "width": null,
            "min_width": null,
            "border": null,
            "align_items": null,
            "bottom": null,
            "_model_module": "@jupyter-widgets/base",
            "top": null,
            "grid_column": null,
            "overflow_y": null,
            "overflow_x": null,
            "grid_auto_flow": null,
            "grid_area": null,
            "grid_template_columns": null,
            "flex": null,
            "_model_name": "LayoutModel",
            "justify_items": null,
            "grid_row": null,
            "max_height": null,
            "align_content": null,
            "visibility": null,
            "align_self": null,
            "height": null,
            "min_height": null,
            "padding": null,
            "grid_auto_rows": null,
            "grid_gap": null,
            "max_width": null,
            "order": null,
            "_view_module_version": "1.2.0",
            "grid_template_areas": null,
            "object_position": null,
            "object_fit": null,
            "grid_auto_columns": null,
            "margin": null,
            "display": null,
            "left": null
          }
        },
        "8b76a59901204e73bc1b18565fa256bb": {
          "model_module": "@jupyter-widgets/controls",
          "model_name": "FloatProgressModel",
          "state": {
            "_view_name": "ProgressView",
            "style": "IPY_MODEL_59671d3d633a4a52b16fbae816398264",
            "_dom_classes": [],
            "description": "Downloading: 100%",
            "_model_name": "FloatProgressModel",
            "bar_style": "success",
            "max": 1382015,
            "_view_module": "@jupyter-widgets/controls",
            "_model_module_version": "1.5.0",
            "value": 1382015,
            "_view_count": null,
            "_view_module_version": "1.5.0",
            "orientation": "horizontal",
            "min": 0,
            "description_tooltip": null,
            "_model_module": "@jupyter-widgets/controls",
            "layout": "IPY_MODEL_3b63e059001842fea2e568129e6714be"
          }
        },
        "8590dd30a0d14e27ad3a856d64aaba20": {
          "model_module": "@jupyter-widgets/controls",
          "model_name": "HTMLModel",
          "state": {
            "_view_name": "HTMLView",
            "style": "IPY_MODEL_2507ba3c27e144409b278dc40e526efe",
            "_dom_classes": [],
            "description": "",
            "_model_name": "HTMLModel",
            "placeholder": "​",
            "_view_module": "@jupyter-widgets/controls",
            "_model_module_version": "1.5.0",
            "value": " 1.38M/1.38M [00:00&lt;00:00, 2.95MB/s]",
            "_view_count": null,
            "_view_module_version": "1.5.0",
            "description_tooltip": null,
            "_model_module": "@jupyter-widgets/controls",
            "layout": "IPY_MODEL_c1527ac454df4f648e7afcfb27ece741"
          }
        },
        "59671d3d633a4a52b16fbae816398264": {
          "model_module": "@jupyter-widgets/controls",
          "model_name": "ProgressStyleModel",
          "state": {
            "_view_name": "StyleView",
            "_model_name": "ProgressStyleModel",
            "description_width": "initial",
            "_view_module": "@jupyter-widgets/base",
            "_model_module_version": "1.5.0",
            "_view_count": null,
            "_view_module_version": "1.2.0",
            "bar_color": null,
            "_model_module": "@jupyter-widgets/controls"
          }
        },
        "3b63e059001842fea2e568129e6714be": {
          "model_module": "@jupyter-widgets/base",
          "model_name": "LayoutModel",
          "state": {
            "_view_name": "LayoutView",
            "grid_template_rows": null,
            "right": null,
            "justify_content": null,
            "_view_module": "@jupyter-widgets/base",
            "overflow": null,
            "_model_module_version": "1.2.0",
            "_view_count": null,
            "flex_flow": null,
            "width": null,
            "min_width": null,
            "border": null,
            "align_items": null,
            "bottom": null,
            "_model_module": "@jupyter-widgets/base",
            "top": null,
            "grid_column": null,
            "overflow_y": null,
            "overflow_x": null,
            "grid_auto_flow": null,
            "grid_area": null,
            "grid_template_columns": null,
            "flex": null,
            "_model_name": "LayoutModel",
            "justify_items": null,
            "grid_row": null,
            "max_height": null,
            "align_content": null,
            "visibility": null,
            "align_self": null,
            "height": null,
            "min_height": null,
            "padding": null,
            "grid_auto_rows": null,
            "grid_gap": null,
            "max_width": null,
            "order": null,
            "_view_module_version": "1.2.0",
            "grid_template_areas": null,
            "object_position": null,
            "object_fit": null,
            "grid_auto_columns": null,
            "margin": null,
            "display": null,
            "left": null
          }
        },
        "2507ba3c27e144409b278dc40e526efe": {
          "model_module": "@jupyter-widgets/controls",
          "model_name": "DescriptionStyleModel",
          "state": {
            "_view_name": "StyleView",
            "_model_name": "DescriptionStyleModel",
            "description_width": "",
            "_view_module": "@jupyter-widgets/base",
            "_model_module_version": "1.5.0",
            "_view_count": null,
            "_view_module_version": "1.2.0",
            "_model_module": "@jupyter-widgets/controls"
          }
        },
        "c1527ac454df4f648e7afcfb27ece741": {
          "model_module": "@jupyter-widgets/base",
          "model_name": "LayoutModel",
          "state": {
            "_view_name": "LayoutView",
            "grid_template_rows": null,
            "right": null,
            "justify_content": null,
            "_view_module": "@jupyter-widgets/base",
            "overflow": null,
            "_model_module_version": "1.2.0",
            "_view_count": null,
            "flex_flow": null,
            "width": null,
            "min_width": null,
            "border": null,
            "align_items": null,
            "bottom": null,
            "_model_module": "@jupyter-widgets/base",
            "top": null,
            "grid_column": null,
            "overflow_y": null,
            "overflow_x": null,
            "grid_auto_flow": null,
            "grid_area": null,
            "grid_template_columns": null,
            "flex": null,
            "_model_name": "LayoutModel",
            "justify_items": null,
            "grid_row": null,
            "max_height": null,
            "align_content": null,
            "visibility": null,
            "align_self": null,
            "height": null,
            "min_height": null,
            "padding": null,
            "grid_auto_rows": null,
            "grid_gap": null,
            "max_width": null,
            "order": null,
            "_view_module_version": "1.2.0",
            "grid_template_areas": null,
            "object_position": null,
            "object_fit": null,
            "grid_auto_columns": null,
            "margin": null,
            "display": null,
            "left": null
          }
        },
        "4a88bd80bd9743b28dc96a6aea22d8e8": {
          "model_module": "@jupyter-widgets/controls",
          "model_name": "HBoxModel",
          "state": {
            "_view_name": "HBoxView",
            "_dom_classes": [],
            "_model_name": "HBoxModel",
            "_view_module": "@jupyter-widgets/controls",
            "_model_module_version": "1.5.0",
            "_view_count": null,
            "_view_module_version": "1.5.0",
            "box_style": "",
            "layout": "IPY_MODEL_40e229991f2f4a87b33b6b71e53b3a80",
            "_model_module": "@jupyter-widgets/controls",
            "children": [
              "IPY_MODEL_25dc23ab8c734f0bbf51712292b47aa7",
              "IPY_MODEL_ce7325af2d2d47a89c034121837b1f6f"
            ]
          }
        },
        "40e229991f2f4a87b33b6b71e53b3a80": {
          "model_module": "@jupyter-widgets/base",
          "model_name": "LayoutModel",
          "state": {
            "_view_name": "LayoutView",
            "grid_template_rows": null,
            "right": null,
            "justify_content": null,
            "_view_module": "@jupyter-widgets/base",
            "overflow": null,
            "_model_module_version": "1.2.0",
            "_view_count": null,
            "flex_flow": null,
            "width": null,
            "min_width": null,
            "border": null,
            "align_items": null,
            "bottom": null,
            "_model_module": "@jupyter-widgets/base",
            "top": null,
            "grid_column": null,
            "overflow_y": null,
            "overflow_x": null,
            "grid_auto_flow": null,
            "grid_area": null,
            "grid_template_columns": null,
            "flex": null,
            "_model_name": "LayoutModel",
            "justify_items": null,
            "grid_row": null,
            "max_height": null,
            "align_content": null,
            "visibility": null,
            "align_self": null,
            "height": null,
            "min_height": null,
            "padding": null,
            "grid_auto_rows": null,
            "grid_gap": null,
            "max_width": null,
            "order": null,
            "_view_module_version": "1.2.0",
            "grid_template_areas": null,
            "object_position": null,
            "object_fit": null,
            "grid_auto_columns": null,
            "margin": null,
            "display": null,
            "left": null
          }
        },
        "25dc23ab8c734f0bbf51712292b47aa7": {
          "model_module": "@jupyter-widgets/controls",
          "model_name": "FloatProgressModel",
          "state": {
            "_view_name": "ProgressView",
            "style": "IPY_MODEL_8a4d46b2be294b56bbe7dace75385af1",
            "_dom_classes": [],
            "description": "Downloading: 100%",
            "_model_name": "FloatProgressModel",
            "bar_style": "success",
            "max": 760,
            "_view_module": "@jupyter-widgets/controls",
            "_model_module_version": "1.5.0",
            "value": 760,
            "_view_count": null,
            "_view_module_version": "1.5.0",
            "orientation": "horizontal",
            "min": 0,
            "description_tooltip": null,
            "_model_module": "@jupyter-widgets/controls",
            "layout": "IPY_MODEL_d7b955d4dff146aca9755ce08570b4ba"
          }
        },
        "ce7325af2d2d47a89c034121837b1f6f": {
          "model_module": "@jupyter-widgets/controls",
          "model_name": "HTMLModel",
          "state": {
            "_view_name": "HTMLView",
            "style": "IPY_MODEL_9a1c5dde172149e594c8bb1511ce32c9",
            "_dom_classes": [],
            "description": "",
            "_model_name": "HTMLModel",
            "placeholder": "​",
            "_view_module": "@jupyter-widgets/controls",
            "_model_module_version": "1.5.0",
            "value": " 760/760 [02:31&lt;00:00, 5.02B/s]",
            "_view_count": null,
            "_view_module_version": "1.5.0",
            "description_tooltip": null,
            "_model_module": "@jupyter-widgets/controls",
            "layout": "IPY_MODEL_fe8b12e9ef4841569a1482fef97bf7c4"
          }
        },
        "8a4d46b2be294b56bbe7dace75385af1": {
          "model_module": "@jupyter-widgets/controls",
          "model_name": "ProgressStyleModel",
          "state": {
            "_view_name": "StyleView",
            "_model_name": "ProgressStyleModel",
            "description_width": "initial",
            "_view_module": "@jupyter-widgets/base",
            "_model_module_version": "1.5.0",
            "_view_count": null,
            "_view_module_version": "1.2.0",
            "bar_color": null,
            "_model_module": "@jupyter-widgets/controls"
          }
        },
        "d7b955d4dff146aca9755ce08570b4ba": {
          "model_module": "@jupyter-widgets/base",
          "model_name": "LayoutModel",
          "state": {
            "_view_name": "LayoutView",
            "grid_template_rows": null,
            "right": null,
            "justify_content": null,
            "_view_module": "@jupyter-widgets/base",
            "overflow": null,
            "_model_module_version": "1.2.0",
            "_view_count": null,
            "flex_flow": null,
            "width": null,
            "min_width": null,
            "border": null,
            "align_items": null,
            "bottom": null,
            "_model_module": "@jupyter-widgets/base",
            "top": null,
            "grid_column": null,
            "overflow_y": null,
            "overflow_x": null,
            "grid_auto_flow": null,
            "grid_area": null,
            "grid_template_columns": null,
            "flex": null,
            "_model_name": "LayoutModel",
            "justify_items": null,
            "grid_row": null,
            "max_height": null,
            "align_content": null,
            "visibility": null,
            "align_self": null,
            "height": null,
            "min_height": null,
            "padding": null,
            "grid_auto_rows": null,
            "grid_gap": null,
            "max_width": null,
            "order": null,
            "_view_module_version": "1.2.0",
            "grid_template_areas": null,
            "object_position": null,
            "object_fit": null,
            "grid_auto_columns": null,
            "margin": null,
            "display": null,
            "left": null
          }
        },
        "9a1c5dde172149e594c8bb1511ce32c9": {
          "model_module": "@jupyter-widgets/controls",
          "model_name": "DescriptionStyleModel",
          "state": {
            "_view_name": "StyleView",
            "_model_name": "DescriptionStyleModel",
            "description_width": "",
            "_view_module": "@jupyter-widgets/base",
            "_model_module_version": "1.5.0",
            "_view_count": null,
            "_view_module_version": "1.2.0",
            "_model_module": "@jupyter-widgets/controls"
          }
        },
        "fe8b12e9ef4841569a1482fef97bf7c4": {
          "model_module": "@jupyter-widgets/base",
          "model_name": "LayoutModel",
          "state": {
            "_view_name": "LayoutView",
            "grid_template_rows": null,
            "right": null,
            "justify_content": null,
            "_view_module": "@jupyter-widgets/base",
            "overflow": null,
            "_model_module_version": "1.2.0",
            "_view_count": null,
            "flex_flow": null,
            "width": null,
            "min_width": null,
            "border": null,
            "align_items": null,
            "bottom": null,
            "_model_module": "@jupyter-widgets/base",
            "top": null,
            "grid_column": null,
            "overflow_y": null,
            "overflow_x": null,
            "grid_auto_flow": null,
            "grid_area": null,
            "grid_template_columns": null,
            "flex": null,
            "_model_name": "LayoutModel",
            "justify_items": null,
            "grid_row": null,
            "max_height": null,
            "align_content": null,
            "visibility": null,
            "align_self": null,
            "height": null,
            "min_height": null,
            "padding": null,
            "grid_auto_rows": null,
            "grid_gap": null,
            "max_width": null,
            "order": null,
            "_view_module_version": "1.2.0",
            "grid_template_areas": null,
            "object_position": null,
            "object_fit": null,
            "grid_auto_columns": null,
            "margin": null,
            "display": null,
            "left": null
          }
        },
        "4becba39e10940b897bc984e2cd51bed": {
          "model_module": "@jupyter-widgets/controls",
          "model_name": "HBoxModel",
          "state": {
            "_view_name": "HBoxView",
            "_dom_classes": [],
            "_model_name": "HBoxModel",
            "_view_module": "@jupyter-widgets/controls",
            "_model_module_version": "1.5.0",
            "_view_count": null,
            "_view_module_version": "1.5.0",
            "box_style": "",
            "layout": "IPY_MODEL_0ccc7c6aea2a45bfb3113f2f24e339cd",
            "_model_module": "@jupyter-widgets/controls",
            "children": [
              "IPY_MODEL_0a09c48acced4876a11ea4f7590995f0",
              "IPY_MODEL_ff8a722536e541c39675bf4ff5a065ce"
            ]
          }
        },
        "0ccc7c6aea2a45bfb3113f2f24e339cd": {
          "model_module": "@jupyter-widgets/base",
          "model_name": "LayoutModel",
          "state": {
            "_view_name": "LayoutView",
            "grid_template_rows": null,
            "right": null,
            "justify_content": null,
            "_view_module": "@jupyter-widgets/base",
            "overflow": null,
            "_model_module_version": "1.2.0",
            "_view_count": null,
            "flex_flow": null,
            "width": null,
            "min_width": null,
            "border": null,
            "align_items": null,
            "bottom": null,
            "_model_module": "@jupyter-widgets/base",
            "top": null,
            "grid_column": null,
            "overflow_y": null,
            "overflow_x": null,
            "grid_auto_flow": null,
            "grid_area": null,
            "grid_template_columns": null,
            "flex": null,
            "_model_name": "LayoutModel",
            "justify_items": null,
            "grid_row": null,
            "max_height": null,
            "align_content": null,
            "visibility": null,
            "align_self": null,
            "height": null,
            "min_height": null,
            "padding": null,
            "grid_auto_rows": null,
            "grid_gap": null,
            "max_width": null,
            "order": null,
            "_view_module_version": "1.2.0",
            "grid_template_areas": null,
            "object_position": null,
            "object_fit": null,
            "grid_auto_columns": null,
            "margin": null,
            "display": null,
            "left": null
          }
        },
        "0a09c48acced4876a11ea4f7590995f0": {
          "model_module": "@jupyter-widgets/controls",
          "model_name": "FloatProgressModel",
          "state": {
            "_view_name": "ProgressView",
            "style": "IPY_MODEL_cc92e077454a44208e962087e75eaac3",
            "_dom_classes": [],
            "description": "Downloading: 100%",
            "_model_name": "FloatProgressModel",
            "bar_style": "success",
            "max": 467042463,
            "_view_module": "@jupyter-widgets/controls",
            "_model_module_version": "1.5.0",
            "value": 467042463,
            "_view_count": null,
            "_view_module_version": "1.5.0",
            "orientation": "horizontal",
            "min": 0,
            "description_tooltip": null,
            "_model_module": "@jupyter-widgets/controls",
            "layout": "IPY_MODEL_4fefa0aa592b4601aa73178ccfab391e"
          }
        },
        "ff8a722536e541c39675bf4ff5a065ce": {
          "model_module": "@jupyter-widgets/controls",
          "model_name": "HTMLModel",
          "state": {
            "_view_name": "HTMLView",
            "style": "IPY_MODEL_41bbd99116c14405bf10a9240b749ede",
            "_dom_classes": [],
            "description": "",
            "_model_name": "HTMLModel",
            "placeholder": "​",
            "_view_module": "@jupyter-widgets/controls",
            "_model_module_version": "1.5.0",
            "value": " 467M/467M [00:24&lt;00:00, 18.7MB/s]",
            "_view_count": null,
            "_view_module_version": "1.5.0",
            "description_tooltip": null,
            "_model_module": "@jupyter-widgets/controls",
            "layout": "IPY_MODEL_26e2af07ef1a4cda91c4c91290f512ee"
          }
        },
        "cc92e077454a44208e962087e75eaac3": {
          "model_module": "@jupyter-widgets/controls",
          "model_name": "ProgressStyleModel",
          "state": {
            "_view_name": "StyleView",
            "_model_name": "ProgressStyleModel",
            "description_width": "initial",
            "_view_module": "@jupyter-widgets/base",
            "_model_module_version": "1.5.0",
            "_view_count": null,
            "_view_module_version": "1.2.0",
            "bar_color": null,
            "_model_module": "@jupyter-widgets/controls"
          }
        },
        "4fefa0aa592b4601aa73178ccfab391e": {
          "model_module": "@jupyter-widgets/base",
          "model_name": "LayoutModel",
          "state": {
            "_view_name": "LayoutView",
            "grid_template_rows": null,
            "right": null,
            "justify_content": null,
            "_view_module": "@jupyter-widgets/base",
            "overflow": null,
            "_model_module_version": "1.2.0",
            "_view_count": null,
            "flex_flow": null,
            "width": null,
            "min_width": null,
            "border": null,
            "align_items": null,
            "bottom": null,
            "_model_module": "@jupyter-widgets/base",
            "top": null,
            "grid_column": null,
            "overflow_y": null,
            "overflow_x": null,
            "grid_auto_flow": null,
            "grid_area": null,
            "grid_template_columns": null,
            "flex": null,
            "_model_name": "LayoutModel",
            "justify_items": null,
            "grid_row": null,
            "max_height": null,
            "align_content": null,
            "visibility": null,
            "align_self": null,
            "height": null,
            "min_height": null,
            "padding": null,
            "grid_auto_rows": null,
            "grid_gap": null,
            "max_width": null,
            "order": null,
            "_view_module_version": "1.2.0",
            "grid_template_areas": null,
            "object_position": null,
            "object_fit": null,
            "grid_auto_columns": null,
            "margin": null,
            "display": null,
            "left": null
          }
        },
        "41bbd99116c14405bf10a9240b749ede": {
          "model_module": "@jupyter-widgets/controls",
          "model_name": "DescriptionStyleModel",
          "state": {
            "_view_name": "StyleView",
            "_model_name": "DescriptionStyleModel",
            "description_width": "",
            "_view_module": "@jupyter-widgets/base",
            "_model_module_version": "1.5.0",
            "_view_count": null,
            "_view_module_version": "1.2.0",
            "_model_module": "@jupyter-widgets/controls"
          }
        },
        "26e2af07ef1a4cda91c4c91290f512ee": {
          "model_module": "@jupyter-widgets/base",
          "model_name": "LayoutModel",
          "state": {
            "_view_name": "LayoutView",
            "grid_template_rows": null,
            "right": null,
            "justify_content": null,
            "_view_module": "@jupyter-widgets/base",
            "overflow": null,
            "_model_module_version": "1.2.0",
            "_view_count": null,
            "flex_flow": null,
            "width": null,
            "min_width": null,
            "border": null,
            "align_items": null,
            "bottom": null,
            "_model_module": "@jupyter-widgets/base",
            "top": null,
            "grid_column": null,
            "overflow_y": null,
            "overflow_x": null,
            "grid_auto_flow": null,
            "grid_area": null,
            "grid_template_columns": null,
            "flex": null,
            "_model_name": "LayoutModel",
            "justify_items": null,
            "grid_row": null,
            "max_height": null,
            "align_content": null,
            "visibility": null,
            "align_self": null,
            "height": null,
            "min_height": null,
            "padding": null,
            "grid_auto_rows": null,
            "grid_gap": null,
            "max_width": null,
            "order": null,
            "_view_module_version": "1.2.0",
            "grid_template_areas": null,
            "object_position": null,
            "object_fit": null,
            "grid_auto_columns": null,
            "margin": null,
            "display": null,
            "left": null
          }
        }
      }
    },
    "accelerator": "GPU"
  },
  "cells": [
    {
      "cell_type": "markdown",
      "metadata": {
        "id": "view-in-github",
        "colab_type": "text"
      },
      "source": [
        "<a href=\"https://colab.research.google.com/github/vifirsanova/XLNet-Text-Generation/blob/main/XLNet_tutorial.ipynb\" target=\"_parent\"><img src=\"https://colab.research.google.com/assets/colab-badge.svg\" alt=\"Open In Colab\"/></a>"
      ]
    },
    {
      "cell_type": "markdown",
      "metadata": {
        "id": "13G-8TgNFdNP"
      },
      "source": [
        "Туториал подготовила [Виктория Фирсанова](https://github.com/vifirsanova)\r\n",
        "\r\n",
        "<td>\r\n",
        "<a href=\"https://github.com/vifirsanova/XLNet-Text-Generation\"><img src=\"https://raw.githubusercontent.com/google/or-tools/master/tools/github_32px.png\"/>Источник на GitHub</a>\r\n",
        "</td>\r\n"
      ]
    },
    {
      "cell_type": "markdown",
      "metadata": {
        "id": "CYttFfFwRXeN"
      },
      "source": [
        "# Генерация текста с XLNet"
      ]
    },
    {
      "cell_type": "markdown",
      "metadata": {
        "id": "LLw3Wxp0t_Ql"
      },
      "source": [
        "**Q**: Почему XLNet?\n",
        "\n",
        "**A**: GPT отлично справляется с генерацией текстов (предсказанием следующего токена для заданной последовательности), но это однононаправленная модель. XLNet позволяет генерировать текст с помощью двунаправленной архитектуры (сравните с BERT). \n",
        "\n",
        "Для построения модели мы воспользуется [XLNet от HuggingFace](https://huggingface.co/transformers/model_doc/xlnet.html).\n",
        "\n",
        "\n"
      ]
    },
    {
      "cell_type": "markdown",
      "metadata": {
        "id": "Z_Eplcj-guRg"
      },
      "source": [
        "# Загрузка модулей\n",
        "\n",
        "Не забудьте выбрать GPU как среду выполнения: \n",
        "\n",
        "1. Среда выполнения\n",
        "2. Сменить среду выполнения\n",
        "3. Аппаратный ускоритель\n",
        "4. GPU\n",
        "5. Сохранить\n",
        "\n",
        "Готово! Вы восхитительны. Посмотрим, что в нашем распоряжении в ячейке ниже."
      ]
    },
    {
      "cell_type": "code",
      "metadata": {
        "colab": {
          "base_uri": "https://localhost:8080/"
        },
        "id": "XUKX_oJttj30",
        "outputId": "dcaf86be-5505-45db-c310-c43e768426ee"
      },
      "source": [
        "!nvidia-smi"
      ],
      "execution_count": null,
      "outputs": [
        {
          "output_type": "stream",
          "text": [
            "Sun Dec 13 16:51:37 2020       \n",
            "+-----------------------------------------------------------------------------+\n",
            "| NVIDIA-SMI 455.45.01    Driver Version: 418.67       CUDA Version: 10.1     |\n",
            "|-------------------------------+----------------------+----------------------+\n",
            "| GPU  Name        Persistence-M| Bus-Id        Disp.A | Volatile Uncorr. ECC |\n",
            "| Fan  Temp  Perf  Pwr:Usage/Cap|         Memory-Usage | GPU-Util  Compute M. |\n",
            "|                               |                      |               MIG M. |\n",
            "|===============================+======================+======================|\n",
            "|   0  Tesla T4            Off  | 00000000:00:04.0 Off |                    0 |\n",
            "| N/A   63C    P8    11W /  70W |      0MiB / 15079MiB |      0%      Default |\n",
            "|                               |                      |                 ERR! |\n",
            "+-------------------------------+----------------------+----------------------+\n",
            "                                                                               \n",
            "+-----------------------------------------------------------------------------+\n",
            "| Processes:                                                                  |\n",
            "|  GPU   GI   CI        PID   Type   Process name                  GPU Memory |\n",
            "|        ID   ID                                                   Usage      |\n",
            "|=============================================================================|\n",
            "|  No running processes found                                                 |\n",
            "+-----------------------------------------------------------------------------+\n"
          ],
          "name": "stdout"
        }
      ]
    },
    {
      "cell_type": "markdown",
      "metadata": {
        "id": "54jusKWuuds-"
      },
      "source": [
        "Загрузим [HuggingFace Transformers](https://huggingface.co/transformers/)\r\n",
        "\r\n"
      ]
    },
    {
      "cell_type": "code",
      "metadata": {
        "id": "gFF1bJB3RWhB",
        "colab": {
          "base_uri": "https://localhost:8080/"
        },
        "outputId": "384b0bed-4b91-469f-e529-71c7be21bc14"
      },
      "source": [
        "!pip install transformers"
      ],
      "execution_count": null,
      "outputs": [
        {
          "output_type": "stream",
          "text": [
            "Collecting transformers\n",
            "\u001b[?25l  Downloading https://files.pythonhosted.org/packages/ed/db/98c3ea1a78190dac41c0127a063abf92bd01b4b0b6970a6db1c2f5b66fa0/transformers-4.0.1-py3-none-any.whl (1.4MB)\n",
            "\r\u001b[K     |▎                               | 10kB 20.4MB/s eta 0:00:01\r\u001b[K     |▌                               | 20kB 18.3MB/s eta 0:00:01\r\u001b[K     |▊                               | 30kB 14.4MB/s eta 0:00:01\r\u001b[K     |█                               | 40kB 13.0MB/s eta 0:00:01\r\u001b[K     |█▏                              | 51kB 7.8MB/s eta 0:00:01\r\u001b[K     |█▌                              | 61kB 8.9MB/s eta 0:00:01\r\u001b[K     |█▊                              | 71kB 9.8MB/s eta 0:00:01\r\u001b[K     |██                              | 81kB 10.8MB/s eta 0:00:01\r\u001b[K     |██▏                             | 92kB 10.2MB/s eta 0:00:01\r\u001b[K     |██▍                             | 102kB 8.3MB/s eta 0:00:01\r\u001b[K     |██▋                             | 112kB 8.3MB/s eta 0:00:01\r\u001b[K     |███                             | 122kB 8.3MB/s eta 0:00:01\r\u001b[K     |███▏                            | 133kB 8.3MB/s eta 0:00:01\r\u001b[K     |███▍                            | 143kB 8.3MB/s eta 0:00:01\r\u001b[K     |███▋                            | 153kB 8.3MB/s eta 0:00:01\r\u001b[K     |███▉                            | 163kB 8.3MB/s eta 0:00:01\r\u001b[K     |████▏                           | 174kB 8.3MB/s eta 0:00:01\r\u001b[K     |████▍                           | 184kB 8.3MB/s eta 0:00:01\r\u001b[K     |████▋                           | 194kB 8.3MB/s eta 0:00:01\r\u001b[K     |████▉                           | 204kB 8.3MB/s eta 0:00:01\r\u001b[K     |█████                           | 215kB 8.3MB/s eta 0:00:01\r\u001b[K     |█████▎                          | 225kB 8.3MB/s eta 0:00:01\r\u001b[K     |█████▋                          | 235kB 8.3MB/s eta 0:00:01\r\u001b[K     |█████▉                          | 245kB 8.3MB/s eta 0:00:01\r\u001b[K     |██████                          | 256kB 8.3MB/s eta 0:00:01\r\u001b[K     |██████▎                         | 266kB 8.3MB/s eta 0:00:01\r\u001b[K     |██████▌                         | 276kB 8.3MB/s eta 0:00:01\r\u001b[K     |██████▉                         | 286kB 8.3MB/s eta 0:00:01\r\u001b[K     |███████                         | 296kB 8.3MB/s eta 0:00:01\r\u001b[K     |███████▎                        | 307kB 8.3MB/s eta 0:00:01\r\u001b[K     |███████▌                        | 317kB 8.3MB/s eta 0:00:01\r\u001b[K     |███████▊                        | 327kB 8.3MB/s eta 0:00:01\r\u001b[K     |████████                        | 337kB 8.3MB/s eta 0:00:01\r\u001b[K     |████████▎                       | 348kB 8.3MB/s eta 0:00:01\r\u001b[K     |████████▌                       | 358kB 8.3MB/s eta 0:00:01\r\u001b[K     |████████▊                       | 368kB 8.3MB/s eta 0:00:01\r\u001b[K     |█████████                       | 378kB 8.3MB/s eta 0:00:01\r\u001b[K     |█████████▏                      | 389kB 8.3MB/s eta 0:00:01\r\u001b[K     |█████████▌                      | 399kB 8.3MB/s eta 0:00:01\r\u001b[K     |█████████▊                      | 409kB 8.3MB/s eta 0:00:01\r\u001b[K     |██████████                      | 419kB 8.3MB/s eta 0:00:01\r\u001b[K     |██████████▏                     | 430kB 8.3MB/s eta 0:00:01\r\u001b[K     |██████████▍                     | 440kB 8.3MB/s eta 0:00:01\r\u001b[K     |██████████▋                     | 450kB 8.3MB/s eta 0:00:01\r\u001b[K     |███████████                     | 460kB 8.3MB/s eta 0:00:01\r\u001b[K     |███████████▏                    | 471kB 8.3MB/s eta 0:00:01\r\u001b[K     |███████████▍                    | 481kB 8.3MB/s eta 0:00:01\r\u001b[K     |███████████▋                    | 491kB 8.3MB/s eta 0:00:01\r\u001b[K     |███████████▉                    | 501kB 8.3MB/s eta 0:00:01\r\u001b[K     |████████████▏                   | 512kB 8.3MB/s eta 0:00:01\r\u001b[K     |████████████▍                   | 522kB 8.3MB/s eta 0:00:01\r\u001b[K     |████████████▋                   | 532kB 8.3MB/s eta 0:00:01\r\u001b[K     |████████████▉                   | 542kB 8.3MB/s eta 0:00:01\r\u001b[K     |█████████████                   | 552kB 8.3MB/s eta 0:00:01\r\u001b[K     |█████████████▎                  | 563kB 8.3MB/s eta 0:00:01\r\u001b[K     |█████████████▋                  | 573kB 8.3MB/s eta 0:00:01\r\u001b[K     |█████████████▉                  | 583kB 8.3MB/s eta 0:00:01\r\u001b[K     |██████████████                  | 593kB 8.3MB/s eta 0:00:01\r\u001b[K     |██████████████▎                 | 604kB 8.3MB/s eta 0:00:01\r\u001b[K     |██████████████▌                 | 614kB 8.3MB/s eta 0:00:01\r\u001b[K     |██████████████▉                 | 624kB 8.3MB/s eta 0:00:01\r\u001b[K     |███████████████                 | 634kB 8.3MB/s eta 0:00:01\r\u001b[K     |███████████████▎                | 645kB 8.3MB/s eta 0:00:01\r\u001b[K     |███████████████▌                | 655kB 8.3MB/s eta 0:00:01\r\u001b[K     |███████████████▊                | 665kB 8.3MB/s eta 0:00:01\r\u001b[K     |████████████████                | 675kB 8.3MB/s eta 0:00:01\r\u001b[K     |████████████████▎               | 686kB 8.3MB/s eta 0:00:01\r\u001b[K     |████████████████▌               | 696kB 8.3MB/s eta 0:00:01\r\u001b[K     |████████████████▊               | 706kB 8.3MB/s eta 0:00:01\r\u001b[K     |█████████████████               | 716kB 8.3MB/s eta 0:00:01\r\u001b[K     |█████████████████▏              | 727kB 8.3MB/s eta 0:00:01\r\u001b[K     |█████████████████▌              | 737kB 8.3MB/s eta 0:00:01\r\u001b[K     |█████████████████▊              | 747kB 8.3MB/s eta 0:00:01\r\u001b[K     |██████████████████              | 757kB 8.3MB/s eta 0:00:01\r\u001b[K     |██████████████████▏             | 768kB 8.3MB/s eta 0:00:01\r\u001b[K     |██████████████████▍             | 778kB 8.3MB/s eta 0:00:01\r\u001b[K     |██████████████████▋             | 788kB 8.3MB/s eta 0:00:01\r\u001b[K     |███████████████████             | 798kB 8.3MB/s eta 0:00:01\r\u001b[K     |███████████████████▏            | 808kB 8.3MB/s eta 0:00:01\r\u001b[K     |███████████████████▍            | 819kB 8.3MB/s eta 0:00:01\r\u001b[K     |███████████████████▋            | 829kB 8.3MB/s eta 0:00:01\r\u001b[K     |███████████████████▉            | 839kB 8.3MB/s eta 0:00:01\r\u001b[K     |████████████████████▏           | 849kB 8.3MB/s eta 0:00:01\r\u001b[K     |████████████████████▍           | 860kB 8.3MB/s eta 0:00:01\r\u001b[K     |████████████████████▋           | 870kB 8.3MB/s eta 0:00:01\r\u001b[K     |████████████████████▉           | 880kB 8.3MB/s eta 0:00:01\r\u001b[K     |█████████████████████           | 890kB 8.3MB/s eta 0:00:01\r\u001b[K     |█████████████████████▎          | 901kB 8.3MB/s eta 0:00:01\r\u001b[K     |█████████████████████▋          | 911kB 8.3MB/s eta 0:00:01\r\u001b[K     |█████████████████████▉          | 921kB 8.3MB/s eta 0:00:01\r\u001b[K     |██████████████████████          | 931kB 8.3MB/s eta 0:00:01\r\u001b[K     |██████████████████████▎         | 942kB 8.3MB/s eta 0:00:01\r\u001b[K     |██████████████████████▌         | 952kB 8.3MB/s eta 0:00:01\r\u001b[K     |██████████████████████▊         | 962kB 8.3MB/s eta 0:00:01\r\u001b[K     |███████████████████████         | 972kB 8.3MB/s eta 0:00:01\r\u001b[K     |███████████████████████▎        | 983kB 8.3MB/s eta 0:00:01\r\u001b[K     |███████████████████████▌        | 993kB 8.3MB/s eta 0:00:01\r\u001b[K     |███████████████████████▊        | 1.0MB 8.3MB/s eta 0:00:01\r\u001b[K     |████████████████████████        | 1.0MB 8.3MB/s eta 0:00:01\r\u001b[K     |████████████████████████▎       | 1.0MB 8.3MB/s eta 0:00:01\r\u001b[K     |████████████████████████▌       | 1.0MB 8.3MB/s eta 0:00:01\r\u001b[K     |████████████████████████▊       | 1.0MB 8.3MB/s eta 0:00:01\r\u001b[K     |█████████████████████████       | 1.1MB 8.3MB/s eta 0:00:01\r\u001b[K     |█████████████████████████▏      | 1.1MB 8.3MB/s eta 0:00:01\r\u001b[K     |█████████████████████████▍      | 1.1MB 8.3MB/s eta 0:00:01\r\u001b[K     |█████████████████████████▊      | 1.1MB 8.3MB/s eta 0:00:01\r\u001b[K     |██████████████████████████      | 1.1MB 8.3MB/s eta 0:00:01\r\u001b[K     |██████████████████████████▏     | 1.1MB 8.3MB/s eta 0:00:01\r\u001b[K     |██████████████████████████▍     | 1.1MB 8.3MB/s eta 0:00:01\r\u001b[K     |██████████████████████████▋     | 1.1MB 8.3MB/s eta 0:00:01\r\u001b[K     |███████████████████████████     | 1.1MB 8.3MB/s eta 0:00:01\r\u001b[K     |███████████████████████████▏    | 1.1MB 8.3MB/s eta 0:00:01\r\u001b[K     |███████████████████████████▍    | 1.2MB 8.3MB/s eta 0:00:01\r\u001b[K     |███████████████████████████▋    | 1.2MB 8.3MB/s eta 0:00:01\r\u001b[K     |███████████████████████████▉    | 1.2MB 8.3MB/s eta 0:00:01\r\u001b[K     |████████████████████████████    | 1.2MB 8.3MB/s eta 0:00:01\r\u001b[K     |████████████████████████████▍   | 1.2MB 8.3MB/s eta 0:00:01\r\u001b[K     |████████████████████████████▋   | 1.2MB 8.3MB/s eta 0:00:01\r\u001b[K     |████████████████████████████▉   | 1.2MB 8.3MB/s eta 0:00:01\r\u001b[K     |█████████████████████████████   | 1.2MB 8.3MB/s eta 0:00:01\r\u001b[K     |█████████████████████████████▎  | 1.2MB 8.3MB/s eta 0:00:01\r\u001b[K     |█████████████████████████████▋  | 1.2MB 8.3MB/s eta 0:00:01\r\u001b[K     |█████████████████████████████▉  | 1.3MB 8.3MB/s eta 0:00:01\r\u001b[K     |██████████████████████████████  | 1.3MB 8.3MB/s eta 0:00:01\r\u001b[K     |██████████████████████████████▎ | 1.3MB 8.3MB/s eta 0:00:01\r\u001b[K     |██████████████████████████████▌ | 1.3MB 8.3MB/s eta 0:00:01\r\u001b[K     |██████████████████████████████▊ | 1.3MB 8.3MB/s eta 0:00:01\r\u001b[K     |███████████████████████████████ | 1.3MB 8.3MB/s eta 0:00:01\r\u001b[K     |███████████████████████████████▎| 1.3MB 8.3MB/s eta 0:00:01\r\u001b[K     |███████████████████████████████▌| 1.3MB 8.3MB/s eta 0:00:01\r\u001b[K     |███████████████████████████████▊| 1.3MB 8.3MB/s eta 0:00:01\r\u001b[K     |████████████████████████████████| 1.4MB 8.3MB/s eta 0:00:01\r\u001b[K     |████████████████████████████████| 1.4MB 8.3MB/s \n",
            "\u001b[?25hRequirement already satisfied: numpy in /usr/local/lib/python3.6/dist-packages (from transformers) (1.18.5)\n",
            "Requirement already satisfied: regex!=2019.12.17 in /usr/local/lib/python3.6/dist-packages (from transformers) (2019.12.20)\n",
            "Collecting tokenizers==0.9.4\n",
            "\u001b[?25l  Downloading https://files.pythonhosted.org/packages/0f/1c/e789a8b12e28be5bc1ce2156cf87cb522b379be9cadc7ad8091a4cc107c4/tokenizers-0.9.4-cp36-cp36m-manylinux2010_x86_64.whl (2.9MB)\n",
            "\u001b[K     |████████████████████████████████| 2.9MB 54.6MB/s \n",
            "\u001b[?25hRequirement already satisfied: filelock in /usr/local/lib/python3.6/dist-packages (from transformers) (3.0.12)\n",
            "Collecting sacremoses\n",
            "\u001b[?25l  Downloading https://files.pythonhosted.org/packages/7d/34/09d19aff26edcc8eb2a01bed8e98f13a1537005d31e95233fd48216eed10/sacremoses-0.0.43.tar.gz (883kB)\n",
            "\u001b[K     |████████████████████████████████| 890kB 51.1MB/s \n",
            "\u001b[?25hRequirement already satisfied: requests in /usr/local/lib/python3.6/dist-packages (from transformers) (2.23.0)\n",
            "Requirement already satisfied: tqdm>=4.27 in /usr/local/lib/python3.6/dist-packages (from transformers) (4.41.1)\n",
            "Requirement already satisfied: dataclasses; python_version < \"3.7\" in /usr/local/lib/python3.6/dist-packages (from transformers) (0.8)\n",
            "Requirement already satisfied: packaging in /usr/local/lib/python3.6/dist-packages (from transformers) (20.7)\n",
            "Requirement already satisfied: six in /usr/local/lib/python3.6/dist-packages (from sacremoses->transformers) (1.15.0)\n",
            "Requirement already satisfied: click in /usr/local/lib/python3.6/dist-packages (from sacremoses->transformers) (7.1.2)\n",
            "Requirement already satisfied: joblib in /usr/local/lib/python3.6/dist-packages (from sacremoses->transformers) (0.17.0)\n",
            "Requirement already satisfied: idna<3,>=2.5 in /usr/local/lib/python3.6/dist-packages (from requests->transformers) (2.10)\n",
            "Requirement already satisfied: urllib3!=1.25.0,!=1.25.1,<1.26,>=1.21.1 in /usr/local/lib/python3.6/dist-packages (from requests->transformers) (1.24.3)\n",
            "Requirement already satisfied: chardet<4,>=3.0.2 in /usr/local/lib/python3.6/dist-packages (from requests->transformers) (3.0.4)\n",
            "Requirement already satisfied: certifi>=2017.4.17 in /usr/local/lib/python3.6/dist-packages (from requests->transformers) (2020.12.5)\n",
            "Requirement already satisfied: pyparsing>=2.0.2 in /usr/local/lib/python3.6/dist-packages (from packaging->transformers) (2.4.7)\n",
            "Building wheels for collected packages: sacremoses\n",
            "  Building wheel for sacremoses (setup.py) ... \u001b[?25l\u001b[?25hdone\n",
            "  Created wheel for sacremoses: filename=sacremoses-0.0.43-cp36-none-any.whl size=893261 sha256=b47018fa1daf1d1fdee46884ce743cc10a775ff7777cc44b1e2731cf05d5f712\n",
            "  Stored in directory: /root/.cache/pip/wheels/29/3c/fd/7ce5c3f0666dab31a50123635e6fb5e19ceb42ce38d4e58f45\n",
            "Successfully built sacremoses\n",
            "Installing collected packages: tokenizers, sacremoses, transformers\n",
            "Successfully installed sacremoses-0.0.43 tokenizers-0.9.4 transformers-4.0.1\n"
          ],
          "name": "stdout"
        }
      ]
    },
    {
      "cell_type": "markdown",
      "metadata": {
        "id": "J7snPKhqWSmH"
      },
      "source": [
        "# Загрузим датасет\r\n",
        "\r\n",
        "Здесь мы будем использовать [CMU Book Summary Dataset](http://www.cs.cmu.edu/~dbamman/booksummaries.html).\r\n",
        "\r\n",
        "Загрузим датасет напрямую по ссылке."
      ]
    },
    {
      "cell_type": "code",
      "metadata": {
        "colab": {
          "base_uri": "https://localhost:8080/"
        },
        "id": "seURbhxEXMkl",
        "outputId": "052cea4e-4380-44e7-e4bd-00cc551308d8"
      },
      "source": [
        "!wget http://www.cs.cmu.edu/~dbamman/data/booksummaries.tar.gz"
      ],
      "execution_count": null,
      "outputs": [
        {
          "output_type": "stream",
          "text": [
            "--2020-12-13 16:51:44--  http://www.cs.cmu.edu/~dbamman/data/booksummaries.tar.gz\n",
            "Resolving www.cs.cmu.edu (www.cs.cmu.edu)... 128.2.42.95\n",
            "Connecting to www.cs.cmu.edu (www.cs.cmu.edu)|128.2.42.95|:80... connected.\n",
            "HTTP request sent, awaiting response... 200 OK\n",
            "Length: 16795330 (16M) [application/x-gzip]\n",
            "Saving to: ‘booksummaries.tar.gz’\n",
            "\n",
            "booksummaries.tar.g 100%[===================>]  16.02M   923KB/s    in 18s     \n",
            "\n",
            "2020-12-13 16:52:02 (900 KB/s) - ‘booksummaries.tar.gz’ saved [16795330/16795330]\n",
            "\n"
          ],
          "name": "stdout"
        }
      ]
    },
    {
      "cell_type": "markdown",
      "metadata": {
        "id": "sHlKXaayaI2x"
      },
      "source": [
        "Извлечем данные и посмотрим на них"
      ]
    },
    {
      "cell_type": "code",
      "metadata": {
        "colab": {
          "base_uri": "https://localhost:8080/",
          "height": 511
        },
        "id": "QL0q2WX6XrDQ",
        "outputId": "fbe78570-925d-4fbe-fe31-d09efdbf07e2"
      },
      "source": [
        "import pandas as pd\r\n",
        "df = pd.read_csv('/content/booksummaries.tar.gz', sep='\\t', names=['wiki_id', 'freebase_id', 'title', 'author', 'date', 'genres', 'summary'])[16:-1]\r\n",
        "df.sample(10)"
      ],
      "execution_count": null,
      "outputs": [
        {
          "output_type": "execute_result",
          "data": {
            "text/html": [
              "<div>\n",
              "<style scoped>\n",
              "    .dataframe tbody tr th:only-of-type {\n",
              "        vertical-align: middle;\n",
              "    }\n",
              "\n",
              "    .dataframe tbody tr th {\n",
              "        vertical-align: top;\n",
              "    }\n",
              "\n",
              "    .dataframe thead th {\n",
              "        text-align: right;\n",
              "    }\n",
              "</style>\n",
              "<table border=\"1\" class=\"dataframe\">\n",
              "  <thead>\n",
              "    <tr style=\"text-align: right;\">\n",
              "      <th></th>\n",
              "      <th>wiki_id</th>\n",
              "      <th>freebase_id</th>\n",
              "      <th>title</th>\n",
              "      <th>author</th>\n",
              "      <th>date</th>\n",
              "      <th>genres</th>\n",
              "      <th>summary</th>\n",
              "    </tr>\n",
              "  </thead>\n",
              "  <tbody>\n",
              "    <tr>\n",
              "      <th>5071</th>\n",
              "      <td>3884501</td>\n",
              "      <td>/m/0b4_x1</td>\n",
              "      <td>Damaged Goods</td>\n",
              "      <td>Russell T. Davies</td>\n",
              "      <td>NaN</td>\n",
              "      <td>{\"/m/014dfn\": \"Speculative fiction\"}</td>\n",
              "      <td>The novel is set in Britain in 1987, and invo...</td>\n",
              "    </tr>\n",
              "    <tr>\n",
              "      <th>11161</th>\n",
              "      <td>14298413</td>\n",
              "      <td>/m/03c_sgm</td>\n",
              "      <td>Ruth Hall</td>\n",
              "      <td>Fanny Fern</td>\n",
              "      <td>1854</td>\n",
              "      <td>{\"/m/016lj8\": \"Roman \\u00e0 clef\"}</td>\n",
              "      <td>The autobiographical novel can be divided int...</td>\n",
              "    </tr>\n",
              "    <tr>\n",
              "      <th>3909</th>\n",
              "      <td>2678701</td>\n",
              "      <td>/m/07xdpz</td>\n",
              "      <td>The Loveday Fortunes</td>\n",
              "      <td>Kate Tremayne</td>\n",
              "      <td>2000-12-07</td>\n",
              "      <td>{\"/m/01qxvh\": \"Romance novel\", \"/m/0hwxm\": \"Hi...</td>\n",
              "      <td>When the Lovedays' banker is found dead in th...</td>\n",
              "    </tr>\n",
              "    <tr>\n",
              "      <th>9266</th>\n",
              "      <td>9764872</td>\n",
              "      <td>/m/02prhkj</td>\n",
              "      <td>The Ugly Swans</td>\n",
              "      <td>Arkady Strugatsky</td>\n",
              "      <td>NaN</td>\n",
              "      <td>{\"/m/06n90\": \"Science Fiction\", \"/m/014dfn\": \"...</td>\n",
              "      <td>The action takes place in an uncertain mildly...</td>\n",
              "    </tr>\n",
              "    <tr>\n",
              "      <th>2175</th>\n",
              "      <td>1151016</td>\n",
              "      <td>/m/04bnyz</td>\n",
              "      <td>The Basic Eight</td>\n",
              "      <td>Daniel Handler</td>\n",
              "      <td>1998-04</td>\n",
              "      <td>{\"/m/02xlf\": \"Fiction\"}</td>\n",
              "      <td>Flannery Culp is a senior at Roewer High Scho...</td>\n",
              "    </tr>\n",
              "    <tr>\n",
              "      <th>4507</th>\n",
              "      <td>3290351</td>\n",
              "      <td>/m/093mkr</td>\n",
              "      <td>Topdog/Underdog</td>\n",
              "      <td>Suzan-Lori Parks</td>\n",
              "      <td>NaN</td>\n",
              "      <td>NaN</td>\n",
              "      <td>The play chronicles the adult lives of two Af...</td>\n",
              "    </tr>\n",
              "    <tr>\n",
              "      <th>15134</th>\n",
              "      <td>26839511</td>\n",
              "      <td>/m/0c020xz</td>\n",
              "      <td>The Thousand Autumns of Jacob de Zoet</td>\n",
              "      <td>David Mitchell</td>\n",
              "      <td>2010-05-13</td>\n",
              "      <td>{\"/m/0488wh\": \"Literary fiction\"}</td>\n",
              "      <td>The novel begins in the summer of 1799 at the...</td>\n",
              "    </tr>\n",
              "    <tr>\n",
              "      <th>14426</th>\n",
              "      <td>24021398</td>\n",
              "      <td>/m/07k5tyc</td>\n",
              "      <td>Vampire Zero</td>\n",
              "      <td>David Wellington</td>\n",
              "      <td>2008</td>\n",
              "      <td>NaN</td>\n",
              "      <td>After Pennsylvania State Trooper and vampire ...</td>\n",
              "    </tr>\n",
              "    <tr>\n",
              "      <th>13020</th>\n",
              "      <td>19723244</td>\n",
              "      <td>/m/04n2gch</td>\n",
              "      <td>Minnie and Moo: The Night of the Living Bed</td>\n",
              "      <td>NaN</td>\n",
              "      <td>NaN</td>\n",
              "      <td>NaN</td>\n",
              "      <td>After having a nightmare about a giant mouse ...</td>\n",
              "    </tr>\n",
              "    <tr>\n",
              "      <th>16449</th>\n",
              "      <td>33912418</td>\n",
              "      <td>/m/0hnc3g8</td>\n",
              "      <td>Durgeshnandini</td>\n",
              "      <td>Bankim Chandra Chattopadhyay</td>\n",
              "      <td>1865</td>\n",
              "      <td>{\"/m/05hgj\": \"Novel\"}</td>\n",
              "      <td>The story is set in the backdrop of Pathan-Mu...</td>\n",
              "    </tr>\n",
              "  </tbody>\n",
              "</table>\n",
              "</div>"
            ],
            "text/plain": [
              "        wiki_id  ...                                            summary\n",
              "5071    3884501  ...   The novel is set in Britain in 1987, and invo...\n",
              "11161  14298413  ...   The autobiographical novel can be divided int...\n",
              "3909    2678701  ...   When the Lovedays' banker is found dead in th...\n",
              "9266    9764872  ...   The action takes place in an uncertain mildly...\n",
              "2175    1151016  ...   Flannery Culp is a senior at Roewer High Scho...\n",
              "4507    3290351  ...   The play chronicles the adult lives of two Af...\n",
              "15134  26839511  ...   The novel begins in the summer of 1799 at the...\n",
              "14426  24021398  ...   After Pennsylvania State Trooper and vampire ...\n",
              "13020  19723244  ...   After having a nightmare about a giant mouse ...\n",
              "16449  33912418  ...   The story is set in the backdrop of Pathan-Mu...\n",
              "\n",
              "[10 rows x 7 columns]"
            ]
          },
          "metadata": {
            "tags": []
          },
          "execution_count": 4
        }
      ]
    },
    {
      "cell_type": "markdown",
      "metadata": {
        "id": "BYDHRPwraO2J"
      },
      "source": [
        "Теперь можно поделить датасет на три выборки: обучающую, проверочную и тестовую"
      ]
    },
    {
      "cell_type": "code",
      "metadata": {
        "id": "lX6gxogVYXd9"
      },
      "source": [
        "from sklearn.model_selection import train_test_split\r\n",
        "\r\n",
        "train, temp = train_test_split(df, train_size = 0.8, random_state = 1)\r\n",
        "test, val = train_test_split(temp, train_size = 0.5, random_state = 1)"
      ],
      "execution_count": null,
      "outputs": []
    },
    {
      "cell_type": "markdown",
      "metadata": {
        "id": "ScWq24_LaU3m"
      },
      "source": [
        "Что получилось?"
      ]
    },
    {
      "cell_type": "code",
      "metadata": {
        "colab": {
          "base_uri": "https://localhost:8080/"
        },
        "id": "wwdm0Q1AY5fL",
        "outputId": "68e300cc-f66a-41e8-85b8-92a685244d98"
      },
      "source": [
        "print(f'Длина обучающей выборки: {len(train)} \\nДлина проверочной выборки: {len(val)} \\nДлина тестовой выборки: {len(test)}')"
      ],
      "execution_count": null,
      "outputs": [
        {
          "output_type": "stream",
          "text": [
            "Длина обучающей выборки: 13247 \n",
            "Длина проверочной выборки: 1656 \n",
            "Длина тестовой выборки: 1656\n"
          ],
          "name": "stdout"
        }
      ]
    },
    {
      "cell_type": "markdown",
      "metadata": {
        "id": "t0KWZpsMekFJ"
      },
      "source": [
        "Обработаем датасет"
      ]
    },
    {
      "cell_type": "code",
      "metadata": {
        "id": "N77U-zEQadPA"
      },
      "source": [
        "import re \r\n",
        "\r\n",
        "def dataset(set, path):\r\n",
        "    texts = df['summary'].tolist() # получаем список текстов\r\n",
        "    data = ''\r\n",
        "    f = open(path, 'w')\r\n",
        "\r\n",
        "    for text in texts:\r\n",
        "        \r\n",
        "        text = str(text).strip() # удаляем лишние пробелы\r\n",
        "        text = re.sub(r\"\\s\", \" \", text) # заменяем на пробел соответствующее регулярное выражение\r\n",
        "        start = '<s> ' # добавляем маркеры для начала и конца предложения\r\n",
        "        end = ' </s>'\r\n",
        "        data += start + text + end + '\\n' # собираем \r\n",
        "        \r\n",
        "    f.write(data)\r\n",
        "    return data"
      ],
      "execution_count": null,
      "outputs": []
    },
    {
      "cell_type": "markdown",
      "metadata": {
        "id": "Y9HJA38bennF"
      },
      "source": [
        "Соберем три выборки"
      ]
    },
    {
      "cell_type": "code",
      "metadata": {
        "id": "pgbjGAv9agXz"
      },
      "source": [
        "train_set = dataset(train, 'train.txt')\r\n",
        "val_set = dataset(val, 'val.txt')\r\n",
        "test_set = dataset(test, 'test.txt')"
      ],
      "execution_count": null,
      "outputs": []
    },
    {
      "cell_type": "markdown",
      "metadata": {
        "id": "QmMlGIMhephC"
      },
      "source": [
        "Что получилось? "
      ]
    },
    {
      "cell_type": "code",
      "metadata": {
        "colab": {
          "base_uri": "https://localhost:8080/",
          "height": 35
        },
        "id": "k9J5-HO6boxC",
        "outputId": "9f5f8e05-3f34-4d43-ae7f-47912bfac4f4"
      },
      "source": [
        "test_set[:100]"
      ],
      "execution_count": null,
      "outputs": [
        {
          "output_type": "execute_result",
          "data": {
            "application/vnd.google.colaboratory.intrinsic+json": {
              "type": "string"
            },
            "text/plain": [
              "'<s> Old Major, the old boar on the Manor Farm, calls the animals on the farm for a meeting, where he'"
            ]
          },
          "metadata": {
            "tags": []
          },
          "execution_count": 9
        }
      ]
    },
    {
      "cell_type": "markdown",
      "metadata": {
        "id": "kornnoQirpB5"
      },
      "source": [
        "# Токенизация + векторизация\r\n",
        "\r\n",
        "Загрузим токенизатор для XLNet из HuggingFace Transformers.\r\n",
        "\r\n",
        "Мы будем использовать предобученную модель [XLNet base cased](https://huggingface.co/xlnet-base-cased)\r\n"
      ]
    },
    {
      "cell_type": "code",
      "metadata": {
        "colab": {
          "base_uri": "https://localhost:8080/",
          "height": 114,
          "referenced_widgets": [
            "5c2190805ea14ef19c57433c953a53ed",
            "c82960efd5454cd0b72157a6b102915e",
            "5b8192b3ea72443e96848b808738b996",
            "a6c3d96f4794415e9eac07c5189a362a",
            "363d866cb3b64b089a056f98481813d1",
            "a5e3444eff7940a98727b78a68a6d368",
            "19bc2aa1253a4cc7a5ee4abcd286a336",
            "0b6f48852fb04ca0b8b4d5964331ac09",
            "201103a21d6943baac071b7c63f55d4f",
            "6482584713514992ae2d9bcdf11d18d2",
            "8b76a59901204e73bc1b18565fa256bb",
            "8590dd30a0d14e27ad3a856d64aaba20",
            "59671d3d633a4a52b16fbae816398264",
            "3b63e059001842fea2e568129e6714be",
            "2507ba3c27e144409b278dc40e526efe",
            "c1527ac454df4f648e7afcfb27ece741"
          ]
        },
        "id": "E55gXhWKs9EC",
        "outputId": "159f0aa0-eaa1-4de2-c1a1-c3a7e816abed"
      },
      "source": [
        "from transformers import XLNetTokenizerFast\r\n",
        "tokenizer = XLNetTokenizerFast.from_pretrained('xlnet-base-cased')"
      ],
      "execution_count": null,
      "outputs": [
        {
          "output_type": "display_data",
          "data": {
            "application/vnd.jupyter.widget-view+json": {
              "model_id": "5c2190805ea14ef19c57433c953a53ed",
              "version_minor": 0,
              "version_major": 2
            },
            "text/plain": [
              "HBox(children=(FloatProgress(value=0.0, description='Downloading', max=798011.0, style=ProgressStyle(descripti…"
            ]
          },
          "metadata": {
            "tags": []
          }
        },
        {
          "output_type": "stream",
          "text": [
            "\n"
          ],
          "name": "stdout"
        },
        {
          "output_type": "display_data",
          "data": {
            "application/vnd.jupyter.widget-view+json": {
              "model_id": "201103a21d6943baac071b7c63f55d4f",
              "version_minor": 0,
              "version_major": 2
            },
            "text/plain": [
              "HBox(children=(FloatProgress(value=0.0, description='Downloading', max=1382015.0, style=ProgressStyle(descript…"
            ]
          },
          "metadata": {
            "tags": []
          }
        },
        {
          "output_type": "stream",
          "text": [
            "\n"
          ],
          "name": "stdout"
        }
      ]
    },
    {
      "cell_type": "markdown",
      "metadata": {
        "id": "ImRKL7VF1Ooi"
      },
      "source": [
        "Посмотрим, как работает быстрый токенизатор "
      ]
    },
    {
      "cell_type": "code",
      "metadata": {
        "colab": {
          "base_uri": "https://localhost:8080/"
        },
        "id": "jHeHYQE404cf",
        "outputId": "828ab4e1-3b10-4906-d52a-dfa1a2240244"
      },
      "source": [
        "tokenizer('Hi! Have a nice day 👍')"
      ],
      "execution_count": null,
      "outputs": [
        {
          "output_type": "execute_result",
          "data": {
            "text/plain": [
              "{'input_ids': [4036, 136, 4386, 24, 2101, 191, 17, 0, 4, 3], 'token_type_ids': [0, 0, 0, 0, 0, 0, 0, 0, 0, 2], 'attention_mask': [1, 1, 1, 1, 1, 1, 1, 1, 1, 1]}"
            ]
          },
          "metadata": {
            "tags": []
          },
          "execution_count": 11
        }
      ]
    },
    {
      "cell_type": "markdown",
      "metadata": {
        "id": "6Fv9v4-B7dwT"
      },
      "source": [
        "\"Упакуем\" наши сеты для обучения сети"
      ]
    },
    {
      "cell_type": "code",
      "metadata": {
        "colab": {
          "base_uri": "https://localhost:8080/"
        },
        "id": "wXy_qm7j7YN9",
        "outputId": "941614f2-2041-45b8-9695-203da4998151"
      },
      "source": [
        "from transformers import LineByLineTextDataset, DataCollatorForLanguageModeling\r\n",
        "\r\n",
        "def load_dataset(train_path, val_path, test_path, tokenizer):\r\n",
        "    train_dataset = LineByLineTextDataset(\r\n",
        "          tokenizer = tokenizer,\r\n",
        "          file_path = train_path,\r\n",
        "          block_size = 128)\r\n",
        "     \r\n",
        "    val_dataset = LineByLineTextDataset(\r\n",
        "          tokenizer = tokenizer,\r\n",
        "          file_path = val_path,\r\n",
        "          block_size = 128)\r\n",
        "\r\n",
        "    test_dataset = LineByLineTextDataset(\r\n",
        "          tokenizer = tokenizer,\r\n",
        "          file_path = test_path,\r\n",
        "          block_size = 128)   \r\n",
        "    \r\n",
        "    data_collator = DataCollatorForLanguageModeling(\r\n",
        "        tokenizer = tokenizer, mlm = False)\r\n",
        "\r\n",
        "    return train_dataset, val_dataset, test_dataset, data_collator\r\n",
        "\r\n",
        "train_dataset, val_dataset, test_dataset, data_collator = load_dataset('train.txt', 'val.txt', 'test.txt', tokenizer)"
      ],
      "execution_count": null,
      "outputs": [
        {
          "output_type": "stream",
          "text": [
            "/usr/local/lib/python3.6/dist-packages/transformers/data/datasets/language_modeling.py:114: FutureWarning: This dataset will be removed from the library soon, preprocessing should be handled with the 🤗 Datasets library. You can have a look at this example script for pointers: https://github.com/huggingface/transformers/blob/master/examples/language-modeling/run_mlm.py\n",
            "  FutureWarning,\n"
          ],
          "name": "stderr"
        }
      ]
    },
    {
      "cell_type": "markdown",
      "metadata": {
        "id": "2MQHukNT7mo4"
      },
      "source": [
        "# Обучение НС\r\n",
        "\r\n",
        "Аргументы для обучения модели"
      ]
    },
    {
      "cell_type": "code",
      "metadata": {
        "colab": {
          "base_uri": "https://localhost:8080/",
          "height": 114,
          "referenced_widgets": [
            "4a88bd80bd9743b28dc96a6aea22d8e8",
            "40e229991f2f4a87b33b6b71e53b3a80",
            "25dc23ab8c734f0bbf51712292b47aa7",
            "ce7325af2d2d47a89c034121837b1f6f",
            "8a4d46b2be294b56bbe7dace75385af1",
            "d7b955d4dff146aca9755ce08570b4ba",
            "9a1c5dde172149e594c8bb1511ce32c9",
            "fe8b12e9ef4841569a1482fef97bf7c4",
            "4becba39e10940b897bc984e2cd51bed",
            "0ccc7c6aea2a45bfb3113f2f24e339cd",
            "0a09c48acced4876a11ea4f7590995f0",
            "ff8a722536e541c39675bf4ff5a065ce",
            "cc92e077454a44208e962087e75eaac3",
            "4fefa0aa592b4601aa73178ccfab391e",
            "41bbd99116c14405bf10a9240b749ede",
            "26e2af07ef1a4cda91c4c91290f512ee"
          ]
        },
        "id": "JUgW1F8z18eH",
        "outputId": "9301675e-d45c-4c85-be18-c0a04cafe944"
      },
      "source": [
        "from transformers import Trainer, TrainingArguments, XLNetLMHeadModel\r\n",
        "\r\n",
        "model = XLNetLMHeadModel.from_pretrained(\"xlnet-base-cased\")\r\n",
        "\r\n",
        "args = TrainingArguments(\r\n",
        "    output_dir = \"./xlnet\",\r\n",
        "    overwrite_output_dir = True,\r\n",
        "    num_train_epochs = 1,\r\n",
        "    per_device_train_batch_size = 32,\r\n",
        "    per_device_eval_batch_size = 64, \r\n",
        "    eval_steps = 400, \r\n",
        "    save_steps = 800, \r\n",
        "    warmup_steps = 500)\r\n",
        "\r\n",
        "trainer = Trainer(\r\n",
        "    model = model,\r\n",
        "    args = args,\r\n",
        "    data_collator = data_collator,\r\n",
        "    train_dataset = train_dataset,\r\n",
        "    eval_dataset = val_dataset)"
      ],
      "execution_count": null,
      "outputs": [
        {
          "output_type": "display_data",
          "data": {
            "application/vnd.jupyter.widget-view+json": {
              "model_id": "4a88bd80bd9743b28dc96a6aea22d8e8",
              "version_minor": 0,
              "version_major": 2
            },
            "text/plain": [
              "HBox(children=(FloatProgress(value=0.0, description='Downloading', max=760.0, style=ProgressStyle(description_…"
            ]
          },
          "metadata": {
            "tags": []
          }
        },
        {
          "output_type": "stream",
          "text": [
            "\n"
          ],
          "name": "stdout"
        },
        {
          "output_type": "display_data",
          "data": {
            "application/vnd.jupyter.widget-view+json": {
              "model_id": "4becba39e10940b897bc984e2cd51bed",
              "version_minor": 0,
              "version_major": 2
            },
            "text/plain": [
              "HBox(children=(FloatProgress(value=0.0, description='Downloading', max=467042463.0, style=ProgressStyle(descri…"
            ]
          },
          "metadata": {
            "tags": []
          }
        },
        {
          "output_type": "stream",
          "text": [
            "\n"
          ],
          "name": "stdout"
        }
      ]
    },
    {
      "cell_type": "markdown",
      "metadata": {
        "id": "9f457jzz8e97"
      },
      "source": [
        "Запускаем"
      ]
    },
    {
      "cell_type": "code",
      "metadata": {
        "colab": {
          "base_uri": "https://localhost:8080/",
          "height": 120
        },
        "id": "C5AmQM-B2YTg",
        "outputId": "2d7c769d-a2b5-410f-92ab-354dfbcd53e2"
      },
      "source": [
        "trainer.train()"
      ],
      "execution_count": null,
      "outputs": [
        {
          "output_type": "display_data",
          "data": {
            "text/html": [
              "\n",
              "    <div>\n",
              "        <style>\n",
              "            /* Turns off some styling */\n",
              "            progress {\n",
              "                /* gets rid of default border in Firefox and Opera. */\n",
              "                border: none;\n",
              "                /* Needs to be in here for Safari polyfill so background images work as expected. */\n",
              "                background-size: auto;\n",
              "            }\n",
              "        </style>\n",
              "      \n",
              "      <progress value='518' max='518' style='width:300px; height:20px; vertical-align: middle;'></progress>\n",
              "      [518/518 10:04, Epoch 1/1]\n",
              "    </div>\n",
              "    <table border=\"1\" class=\"dataframe\">\n",
              "  <thead>\n",
              "    <tr style=\"text-align: left;\">\n",
              "      <th>Step</th>\n",
              "      <th>Training Loss</th>\n",
              "    </tr>\n",
              "  </thead>\n",
              "  <tbody>\n",
              "    <tr>\n",
              "      <td>500</td>\n",
              "      <td>0.089155</td>\n",
              "    </tr>\n",
              "  </tbody>\n",
              "</table><p>"
            ],
            "text/plain": [
              "<IPython.core.display.HTML object>"
            ]
          },
          "metadata": {
            "tags": []
          }
        },
        {
          "output_type": "execute_result",
          "data": {
            "text/plain": [
              "TrainOutput(global_step=518, training_loss=0.08609223939679764)"
            ]
          },
          "metadata": {
            "tags": []
          },
          "execution_count": 14
        }
      ]
    },
    {
      "cell_type": "markdown",
      "metadata": {
        "id": "uIJDcmy2-Swn"
      },
      "source": [
        "Сохраняем"
      ]
    },
    {
      "cell_type": "code",
      "metadata": {
        "id": "FoP6JZpS2cBv"
      },
      "source": [
        "trainer.save_model()"
      ],
      "execution_count": null,
      "outputs": []
    },
    {
      "cell_type": "markdown",
      "metadata": {
        "id": "qUPvv0oa-UZj"
      },
      "source": [
        "# Генерация текста"
      ]
    },
    {
      "cell_type": "code",
      "metadata": {
        "id": "ZKLQWqR_9lCs"
      },
      "source": [
        "from transformers import pipeline\r\n",
        "\r\n",
        "text = pipeline('text-generation', model='./xlnet', tokenizer='xlnet-base-cased', config={'max_length': 512})"
      ],
      "execution_count": null,
      "outputs": []
    },
    {
      "cell_type": "markdown",
      "metadata": {
        "id": "CZAE5qqZ-hzs"
      },
      "source": [
        "Пример генерации текста"
      ]
    },
    {
      "cell_type": "code",
      "metadata": {
        "colab": {
          "base_uri": "https://localhost:8080/",
          "height": 35
        },
        "id": "KHNvbR1b93AZ",
        "outputId": "b8c866b1-23c1-4fb2-a586-98125a55b0c8"
      },
      "source": [
        "text('This is')[0]['generated_text']"
      ],
      "execution_count": null,
      "outputs": [
        {
          "output_type": "execute_result",
          "data": {
            "application/vnd.google.colaboratory.intrinsic+json": {
              "type": "string"
            },
            "text/plain": [
              "'This is a \"true\" \". Fists and pikewi. The first few few \"true\" \". The first few of \"true\" \", \", \", \", \", \", \", \", \", \", \", \", \", \", \", \"'"
            ]
          },
          "metadata": {
            "tags": []
          },
          "execution_count": 17
        }
      ]
    }
  ]
}