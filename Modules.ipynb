{
  "nbformat": 4,
  "nbformat_minor": 0,
  "metadata": {
    "colab": {
      "name": "Modules",
      "provenance": []
    },
    "kernelspec": {
      "name": "python3",
      "display_name": "Python 3"
    },
    "accelerator": "GPU"
  },
  "cells": [
    {
      "cell_type": "markdown",
      "metadata": {
        "id": "Z_Eplcj-guRg"
      },
      "source": [
        "# Загрузка модулей\n",
        "\n",
        "Если вы работаете в Google Colab, не забудьте выбрать GPU как среду выполнения: \n",
        "\n",
        "1. Среда выполнения\n",
        "2. Сменить среду выполнения\n",
        "3. Аппаратный ускоритель\n",
        "4. GPU\n",
        "5. Сохранить\n",
        "\n",
        "Готово! Вы восхитительны. Посмотрим, что в нашем распоряжении в ячейке ниже."
      ]
    },
    {
      "cell_type": "code",
      "metadata": {
        "id": "XUKX_oJttj30"
      },
      "source": [
        "nvidia-smi"
      ],
      "execution_count": null,
      "outputs": []
    },
    {
      "cell_type": "markdown",
      "metadata": {
        "id": "StkCgHznKVoe"
      },
      "source": [
        "```\r\n",
        "+-----------------------------------------------------------------------------+\r\n",
        "| NVIDIA-SMI 455.45.01    Driver Version: 418.67       CUDA Version: 10.1     |\r\n",
        "|-------------------------------+----------------------+----------------------+\r\n",
        "| GPU  Name        Persistence-M| Bus-Id        Disp.A | Volatile Uncorr. ECC |\r\n",
        "| Fan  Temp  Perf  Pwr:Usage/Cap|         Memory-Usage | GPU-Util  Compute M. |\r\n",
        "|                               |                      |               MIG M. |\r\n",
        "|===============================+======================+======================|\r\n",
        "|   0  Tesla T4            Off  | 00000000:00:04.0 Off |                    0 |\r\n",
        "| N/A   63C    P8    11W /  70W |      0MiB / 15079MiB |      0%      Default |\r\n",
        "|                               |                      |                 ERR! |\r\n",
        "+-------------------------------+----------------------+----------------------+\r\n",
        "                                                                               \r\n",
        "+-----------------------------------------------------------------------------+\r\n",
        "| Processes:                                                                  |\r\n",
        "|  GPU   GI   CI        PID   Type   Process name                  GPU Memory |\r\n",
        "|        ID   ID                                                   Usage      |\r\n",
        "|=============================================================================|\r\n",
        "|  No running processes found                                                 |\r\n",
        "+-----------------------------------------------------------------------------+\r\n",
        "```"
      ]
    },
    {
      "cell_type": "markdown",
      "metadata": {
        "id": "54jusKWuuds-"
      },
      "source": [
        "Загрузим [HuggingFace Transformers](https://huggingface.co/transformers/)\r\n",
        "\r\n"
      ]
    },
    {
      "cell_type": "code",
      "metadata": {
        "id": "gFF1bJB3RWhB"
      },
      "source": [
        "pip install transformers"
      ],
      "execution_count": null,
      "outputs": []
    }
  ]
}
