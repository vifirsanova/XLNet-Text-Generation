{
  "nbformat": 4,
  "nbformat_minor": 0,
  "metadata": {
    "colab": {
      "name": "Generating",
      "provenance": []
    },
    "kernelspec": {
      "name": "python3",
      "display_name": "Python 3"
    },
    "accelerator": "GPU"
  },
  "cells": [
    {
      "cell_type": "markdown",
      "metadata": {
        "id": "qUPvv0oa-UZj"
      },
      "source": [
        "# Генерация текста"
      ]
    },
    {
      "cell_type": "code",
      "metadata": {
        "id": "ZKLQWqR_9lCs"
      },
      "source": [
        "from transformers import pipeline\r\n",
        "\r\n",
        "text = pipeline('text-generation', model='./xlnet', tokenizer='xlnet-base-cased', config={'max_length': 512})"
      ],
      "execution_count": null,
      "outputs": []
    },
    {
      "cell_type": "markdown",
      "metadata": {
        "id": "CZAE5qqZ-hzs"
      },
      "source": [
        "Пример генерации текста"
      ]
    },
    {
      "cell_type": "code",
      "metadata": {
        "colab": {
          "base_uri": "https://localhost:8080/",
          "height": 35
        },
        "id": "KHNvbR1b93AZ",
        "outputId": "b8c866b1-23c1-4fb2-a586-98125a55b0c8"
      },
      "source": [
        "text('This is')[0]['generated_text']"
      ],
      "execution_count": null,
      "outputs": [
        {
          "output_type": "execute_result",
          "data": {
            "application/vnd.google.colaboratory.intrinsic+json": {
              "type": "string"
            },
            "text/plain": [
              "'This is a \"true\" \". Fists and pikewi. The first few few \"true\" \". The first few of \"true\" \", \", \", \", \", \", \", \", \", \", \", \", \", \", \", \"'"
            ]
          },
          "metadata": {
            "tags": []
          },
          "execution_count": 17
        }
      ]
    }
  ]
}