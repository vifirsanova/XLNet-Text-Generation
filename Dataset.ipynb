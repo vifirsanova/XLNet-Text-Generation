{
  "nbformat": 4,
  "nbformat_minor": 0,
  "metadata": {
    "colab": {
      "name": "Dataset",
      "provenance": []
    },
    "kernelspec": {
      "name": "python3",
      "display_name": "Python 3"
    },
    "accelerator": "GPU"
  },
  "cells": [
    {
      "cell_type": "markdown",
      "metadata": {
        "id": "J7snPKhqWSmH"
      },
      "source": [
        "# Загрузим датасет\r\n",
        "\r\n",
        "Здесь мы будем использовать [CMU Book Summary Dataset](http://www.cs.cmu.edu/~dbamman/booksummaries.html).\r\n",
        "\r\n",
        "Загрузим датасет напрямую по ссылке."
      ]
    },
    {
      "cell_type": "code",
      "metadata": {
        "colab": {
          "base_uri": "https://localhost:8080/"
        },
        "id": "seURbhxEXMkl",
        "outputId": "052cea4e-4380-44e7-e4bd-00cc551308d8"
      },
      "source": [
        "!wget http://www.cs.cmu.edu/~dbamman/data/booksummaries.tar.gz"
      ],
      "execution_count": null,
      "outputs": [
        {
          "output_type": "stream",
          "text": [
            "--2020-12-13 16:51:44--  http://www.cs.cmu.edu/~dbamman/data/booksummaries.tar.gz\n",
            "Resolving www.cs.cmu.edu (www.cs.cmu.edu)... 128.2.42.95\n",
            "Connecting to www.cs.cmu.edu (www.cs.cmu.edu)|128.2.42.95|:80... connected.\n",
            "HTTP request sent, awaiting response... 200 OK\n",
            "Length: 16795330 (16M) [application/x-gzip]\n",
            "Saving to: ‘booksummaries.tar.gz’\n",
            "\n",
            "booksummaries.tar.g 100%[===================>]  16.02M   923KB/s    in 18s     \n",
            "\n",
            "2020-12-13 16:52:02 (900 KB/s) - ‘booksummaries.tar.gz’ saved [16795330/16795330]\n",
            "\n"
          ],
          "name": "stdout"
        }
      ]
    },
    {
      "cell_type": "markdown",
      "metadata": {
        "id": "sHlKXaayaI2x"
      },
      "source": [
        "Извлечем данные и посмотрим на них"
      ]
    },
    {
      "cell_type": "code",
      "metadata": {
        "colab": {
          "base_uri": "https://localhost:8080/",
          "height": 511
        },
        "id": "QL0q2WX6XrDQ",
        "outputId": "fbe78570-925d-4fbe-fe31-d09efdbf07e2"
      },
      "source": [
        "import pandas as pd\r\n",
        "df = pd.read_csv('/content/booksummaries.tar.gz', sep='\\t', names=['wiki_id', 'freebase_id', 'title', 'author', 'date', 'genres', 'summary'])[16:-1]\r\n",
        "df.sample(10)"
      ],
      "execution_count": null,
      "outputs": [
        {
          "output_type": "execute_result",
          "data": {
            "text/html": [
              "<div>\n",
              "<style scoped>\n",
              "    .dataframe tbody tr th:only-of-type {\n",
              "        vertical-align: middle;\n",
              "    }\n",
              "\n",
              "    .dataframe tbody tr th {\n",
              "        vertical-align: top;\n",
              "    }\n",
              "\n",
              "    .dataframe thead th {\n",
              "        text-align: right;\n",
              "    }\n",
              "</style>\n",
              "<table border=\"1\" class=\"dataframe\">\n",
              "  <thead>\n",
              "    <tr style=\"text-align: right;\">\n",
              "      <th></th>\n",
              "      <th>wiki_id</th>\n",
              "      <th>freebase_id</th>\n",
              "      <th>title</th>\n",
              "      <th>author</th>\n",
              "      <th>date</th>\n",
              "      <th>genres</th>\n",
              "      <th>summary</th>\n",
              "    </tr>\n",
              "  </thead>\n",
              "  <tbody>\n",
              "    <tr>\n",
              "      <th>5071</th>\n",
              "      <td>3884501</td>\n",
              "      <td>/m/0b4_x1</td>\n",
              "      <td>Damaged Goods</td>\n",
              "      <td>Russell T. Davies</td>\n",
              "      <td>NaN</td>\n",
              "      <td>{\"/m/014dfn\": \"Speculative fiction\"}</td>\n",
              "      <td>The novel is set in Britain in 1987, and invo...</td>\n",
              "    </tr>\n",
              "    <tr>\n",
              "      <th>11161</th>\n",
              "      <td>14298413</td>\n",
              "      <td>/m/03c_sgm</td>\n",
              "      <td>Ruth Hall</td>\n",
              "      <td>Fanny Fern</td>\n",
              "      <td>1854</td>\n",
              "      <td>{\"/m/016lj8\": \"Roman \\u00e0 clef\"}</td>\n",
              "      <td>The autobiographical novel can be divided int...</td>\n",
              "    </tr>\n",
              "    <tr>\n",
              "      <th>3909</th>\n",
              "      <td>2678701</td>\n",
              "      <td>/m/07xdpz</td>\n",
              "      <td>The Loveday Fortunes</td>\n",
              "      <td>Kate Tremayne</td>\n",
              "      <td>2000-12-07</td>\n",
              "      <td>{\"/m/01qxvh\": \"Romance novel\", \"/m/0hwxm\": \"Hi...</td>\n",
              "      <td>When the Lovedays' banker is found dead in th...</td>\n",
              "    </tr>\n",
              "    <tr>\n",
              "      <th>9266</th>\n",
              "      <td>9764872</td>\n",
              "      <td>/m/02prhkj</td>\n",
              "      <td>The Ugly Swans</td>\n",
              "      <td>Arkady Strugatsky</td>\n",
              "      <td>NaN</td>\n",
              "      <td>{\"/m/06n90\": \"Science Fiction\", \"/m/014dfn\": \"...</td>\n",
              "      <td>The action takes place in an uncertain mildly...</td>\n",
              "    </tr>\n",
              "    <tr>\n",
              "      <th>2175</th>\n",
              "      <td>1151016</td>\n",
              "      <td>/m/04bnyz</td>\n",
              "      <td>The Basic Eight</td>\n",
              "      <td>Daniel Handler</td>\n",
              "      <td>1998-04</td>\n",
              "      <td>{\"/m/02xlf\": \"Fiction\"}</td>\n",
              "      <td>Flannery Culp is a senior at Roewer High Scho...</td>\n",
              "    </tr>\n",
              "    <tr>\n",
              "      <th>4507</th>\n",
              "      <td>3290351</td>\n",
              "      <td>/m/093mkr</td>\n",
              "      <td>Topdog/Underdog</td>\n",
              "      <td>Suzan-Lori Parks</td>\n",
              "      <td>NaN</td>\n",
              "      <td>NaN</td>\n",
              "      <td>The play chronicles the adult lives of two Af...</td>\n",
              "    </tr>\n",
              "    <tr>\n",
              "      <th>15134</th>\n",
              "      <td>26839511</td>\n",
              "      <td>/m/0c020xz</td>\n",
              "      <td>The Thousand Autumns of Jacob de Zoet</td>\n",
              "      <td>David Mitchell</td>\n",
              "      <td>2010-05-13</td>\n",
              "      <td>{\"/m/0488wh\": \"Literary fiction\"}</td>\n",
              "      <td>The novel begins in the summer of 1799 at the...</td>\n",
              "    </tr>\n",
              "    <tr>\n",
              "      <th>14426</th>\n",
              "      <td>24021398</td>\n",
              "      <td>/m/07k5tyc</td>\n",
              "      <td>Vampire Zero</td>\n",
              "      <td>David Wellington</td>\n",
              "      <td>2008</td>\n",
              "      <td>NaN</td>\n",
              "      <td>After Pennsylvania State Trooper and vampire ...</td>\n",
              "    </tr>\n",
              "    <tr>\n",
              "      <th>13020</th>\n",
              "      <td>19723244</td>\n",
              "      <td>/m/04n2gch</td>\n",
              "      <td>Minnie and Moo: The Night of the Living Bed</td>\n",
              "      <td>NaN</td>\n",
              "      <td>NaN</td>\n",
              "      <td>NaN</td>\n",
              "      <td>After having a nightmare about a giant mouse ...</td>\n",
              "    </tr>\n",
              "    <tr>\n",
              "      <th>16449</th>\n",
              "      <td>33912418</td>\n",
              "      <td>/m/0hnc3g8</td>\n",
              "      <td>Durgeshnandini</td>\n",
              "      <td>Bankim Chandra Chattopadhyay</td>\n",
              "      <td>1865</td>\n",
              "      <td>{\"/m/05hgj\": \"Novel\"}</td>\n",
              "      <td>The story is set in the backdrop of Pathan-Mu...</td>\n",
              "    </tr>\n",
              "  </tbody>\n",
              "</table>\n",
              "</div>"
            ],
            "text/plain": [
              "        wiki_id  ...                                            summary\n",
              "5071    3884501  ...   The novel is set in Britain in 1987, and invo...\n",
              "11161  14298413  ...   The autobiographical novel can be divided int...\n",
              "3909    2678701  ...   When the Lovedays' banker is found dead in th...\n",
              "9266    9764872  ...   The action takes place in an uncertain mildly...\n",
              "2175    1151016  ...   Flannery Culp is a senior at Roewer High Scho...\n",
              "4507    3290351  ...   The play chronicles the adult lives of two Af...\n",
              "15134  26839511  ...   The novel begins in the summer of 1799 at the...\n",
              "14426  24021398  ...   After Pennsylvania State Trooper and vampire ...\n",
              "13020  19723244  ...   After having a nightmare about a giant mouse ...\n",
              "16449  33912418  ...   The story is set in the backdrop of Pathan-Mu...\n",
              "\n",
              "[10 rows x 7 columns]"
            ]
          },
          "metadata": {
            "tags": []
          },
          "execution_count": 4
        }
      ]
    },
    {
      "cell_type": "markdown",
      "metadata": {
        "id": "BYDHRPwraO2J"
      },
      "source": [
        "Теперь можно поделить датасет на три выборки: обучающую, проверочную и тестовую"
      ]
    },
    {
      "cell_type": "code",
      "metadata": {
        "id": "lX6gxogVYXd9"
      },
      "source": [
        "from sklearn.model_selection import train_test_split\r\n",
        "\r\n",
        "train, temp = train_test_split(df, train_size = 0.8, random_state = 1)\r\n",
        "test, val = train_test_split(temp, train_size = 0.5, random_state = 1)"
      ],
      "execution_count": null,
      "outputs": []
    },
    {
      "cell_type": "markdown",
      "metadata": {
        "id": "ScWq24_LaU3m"
      },
      "source": [
        "Что получилось?"
      ]
    },
    {
      "cell_type": "code",
      "metadata": {
        "colab": {
          "base_uri": "https://localhost:8080/"
        },
        "id": "wwdm0Q1AY5fL",
        "outputId": "68e300cc-f66a-41e8-85b8-92a685244d98"
      },
      "source": [
        "print(f'Длина обучающей выборки: {len(train)} \\nДлина проверочной выборки: {len(val)} \\nДлина тестовой выборки: {len(test)}')"
      ],
      "execution_count": null,
      "outputs": [
        {
          "output_type": "stream",
          "text": [
            "Длина обучающей выборки: 13247 \n",
            "Длина проверочной выборки: 1656 \n",
            "Длина тестовой выборки: 1656\n"
          ],
          "name": "stdout"
        }
      ]
    },
    {
      "cell_type": "markdown",
      "metadata": {
        "id": "t0KWZpsMekFJ"
      },
      "source": [
        "Обработаем датасет"
      ]
    },
    {
      "cell_type": "code",
      "metadata": {
        "id": "N77U-zEQadPA"
      },
      "source": [
        "import re \r\n",
        "\r\n",
        "def dataset(set, path):\r\n",
        "    texts = df['summary'].tolist() # получаем список текстов\r\n",
        "    data = ''\r\n",
        "    f = open(path, 'w')\r\n",
        "\r\n",
        "    for text in texts:\r\n",
        "        \r\n",
        "        text = str(text).strip() # удаляем лишние пробелы\r\n",
        "        text = re.sub(r\"\\s\", \" \", text) # заменяем на пробел соответствующее регулярное выражение\r\n",
        "        start = '<s> ' # добавляем маркеры для начала и конца предложения\r\n",
        "        end = ' </s>'\r\n",
        "        data += start + text + end + '\\n' # собираем \r\n",
        "        \r\n",
        "    f.write(data)\r\n",
        "    return data"
      ],
      "execution_count": null,
      "outputs": []
    },
    {
      "cell_type": "markdown",
      "metadata": {
        "id": "Y9HJA38bennF"
      },
      "source": [
        "Соберем три выборки"
      ]
    },
    {
      "cell_type": "code",
      "metadata": {
        "id": "pgbjGAv9agXz"
      },
      "source": [
        "train_set = dataset(train, 'train.txt')\r\n",
        "val_set = dataset(val, 'val.txt')\r\n",
        "test_set = dataset(test, 'test.txt')"
      ],
      "execution_count": null,
      "outputs": []
    },
    {
      "cell_type": "markdown",
      "metadata": {
        "id": "QmMlGIMhephC"
      },
      "source": [
        "Что получилось? "
      ]
    },
    {
      "cell_type": "code",
      "metadata": {
        "colab": {
          "base_uri": "https://localhost:8080/",
          "height": 35
        },
        "id": "k9J5-HO6boxC",
        "outputId": "9f5f8e05-3f34-4d43-ae7f-47912bfac4f4"
      },
      "source": [
        "test_set[:100]"
      ],
      "execution_count": null,
      "outputs": [
        {
          "output_type": "execute_result",
          "data": {
            "application/vnd.google.colaboratory.intrinsic+json": {
              "type": "string"
            },
            "text/plain": [
              "'<s> Old Major, the old boar on the Manor Farm, calls the animals on the farm for a meeting, where he'"
            ]
          },
          "metadata": {
            "tags": []
          },
          "execution_count": 9
        }
      ]
    }
  ]
}